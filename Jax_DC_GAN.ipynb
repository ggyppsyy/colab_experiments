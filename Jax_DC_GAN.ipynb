{
  "nbformat": 4,
  "nbformat_minor": 0,
  "metadata": {
    "colab": {
      "name": "Jax_DC_GAN.ipynb",
      "version": "0.3.2",
      "provenance": [],
      "collapsed_sections": [],
      "include_colab_link": true
    },
    "kernelspec": {
      "name": "python3",
      "display_name": "Python 3"
    }
  },
  "cells": [
    {
      "cell_type": "markdown",
      "metadata": {
        "id": "view-in-github",
        "colab_type": "text"
      },
      "source": [
        "<a href=\"https://colab.research.google.com/github/ggyppsyy/colab_experiments/blob/master/Jax_DC_GAN.ipynb\" target=\"_parent\"><img src=\"https://colab.research.google.com/assets/colab-badge.svg\" alt=\"Open In Colab\"/></a>"
      ]
    },
    {
      "metadata": {
        "id": "5WQrHopoAuFc",
        "colab_type": "code",
        "colab": {}
      },
      "cell_type": "code",
      "source": [
        "#Sources\n",
        "#https://wiseodd.github.io/techblog/2016/07/16/convnet-conv-layer/\n",
        "#https://github.com/huyouare/CS231n/blob/master/assignment2/cs231n/im2col.py\n",
        "#https://colab.research.google.com/github/google/jax/blob/master/notebooks/neural_network_and_data_loading.ipynb"
      ],
      "execution_count": 0,
      "outputs": []
    },
    {
      "metadata": {
        "id": "9_F-zpxi7Be2",
        "colab_type": "code",
        "colab": {}
      },
      "cell_type": "code",
      "source": [
        "#!pip install --upgrade -q https://storage.googleapis.com/jax-wheels/cuda$(echo $CUDA_VERSION | sed -e 's/\\.//' -e 's/\\..*//')/jaxlib-0.1.12-cp36-none-linux_x86_64.whl\n",
        "#!pip install --upgrade -q jax"
      ],
      "execution_count": 0,
      "outputs": []
    },
    {
      "metadata": {
        "id": "cUiA3LRTSrx2",
        "colab_type": "code",
        "colab": {}
      },
      "cell_type": "code",
      "source": [
        "import numpy as np"
      ],
      "execution_count": 0,
      "outputs": []
    },
    {
      "metadata": {
        "id": "HHIg97HTSu9I",
        "colab_type": "code",
        "outputId": "c99fb2f2-29c7-4da8-d638-640c2ae22d8e",
        "colab": {
          "base_uri": "https://localhost:8080/",
          "height": 255
        }
      },
      "cell_type": "code",
      "source": [
        "#Requires shape (batch, height, width, layers)\n",
        "def conv_forward(X, W, b, stride=1, padding=1):\n",
        "    cache = \n",
        "    n_filters, h_filter, w_filter, d_filter = W.shape\n",
        "    n_x, h_x, w_x, d_x = X.shape\n",
        "    assert (h_x - h_filter + 2 * padding) % stride == 0\n",
        "    assert (w_x - w_filter + 2 * padding) % stride == 0\n",
        "    h_out = (h_x - h_filter + 2 * padding) / stride + 1\n",
        "    w_out = (w_x - w_filter + 2 * padding) / stride + 1\n",
        "    \n",
        "    "
      ],
      "execution_count": 0,
      "outputs": [
        {
          "output_type": "stream",
          "text": [
            "[[[ 0  1  2]\n",
            "  [ 3  4  5]]\n",
            "\n",
            " [[ 6  7  8]\n",
            "  [ 9 10 11]]]\n",
            "(2, 2, 3)\n",
            "[[[ 0  3]\n",
            "  [ 1  4]\n",
            "  [ 2  5]]\n",
            "\n",
            " [[ 6  9]\n",
            "  [ 7 10]\n",
            "  [ 8 11]]]\n",
            "(2, 3, 2)\n"
          ],
          "name": "stdout"
        }
      ]
    }
  ]
}